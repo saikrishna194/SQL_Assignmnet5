{
  "nbformat": 4,
  "nbformat_minor": 0,
  "metadata": {
    "colab": {
      "name": "sql _Assignmnet5.ipynb",
      "provenance": []
    },
    "kernelspec": {
      "name": "python3",
      "display_name": "Python 3"
    },
    "language_info": {
      "name": "python"
    }
  },
  "cells": [
    {
      "cell_type": "markdown",
      "source": [
        "Q-1. Write an SQL query to print details of workers excluding first names, “Vipul” and “Satish” from Worker table.\n",
        "\n",
        "**Ans**: SELECT * FROM Worker WHERE FIRST_NAME NOT IN ('Vipul','Satish');"
      ],
      "metadata": {
        "id": "2Mhur0INIXGW"
      }
    },
    {
      "cell_type": "markdown",
      "source": [
        "Q-2. Write an SQL query to print details of the Workers whose FIRST_NAME ends with ‘h’ and contains six alphabets.\n",
        "\n",
        "**Ans:** SELECT * FROM Worker WHERE FIRST_NAME LIKE '______h';"
      ],
      "metadata": {
        "id": "rE8vzqziIa8A"
      }
    },
    {
      "cell_type": "markdown",
      "source": [
        "Q-3. Write a query to validate Email of Employee.\n",
        "\n",
        "**Ans:** SELECT * FROM Worker WHERE email LIKE \"_%@_%._%\""
      ],
      "metadata": {
        "id": "ATHwKl6JIepJ"
      }
    }
  ]
}